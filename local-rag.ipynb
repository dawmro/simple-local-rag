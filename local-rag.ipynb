{
 "cells": [
  {
   "cell_type": "markdown",
   "id": "a2e31eec-6b91-4705-8c15-38dc529c8280",
   "metadata": {},
   "source": [
    "# Local RAG pipeline"
   ]
  },
  {
   "cell_type": "code",
   "execution_count": 18,
   "id": "2a0466c0-9ccd-4ccb-a956-e61aa3b272be",
   "metadata": {},
   "outputs": [],
   "source": [
    "import torch\n",
    "from datetime import datetime"
   ]
  },
  {
   "cell_type": "code",
   "execution_count": 19,
   "id": "1e366629-e13b-4422-9b5a-35ea0ba5790f",
   "metadata": {},
   "outputs": [
    {
     "name": "stdout",
     "output_type": "stream",
     "text": [
      "cuda\n"
     ]
    }
   ],
   "source": [
    "device = \"cuda\" if torch.cuda.is_available() else \"cpu\"\n",
    "print(device)"
   ]
  },
  {
   "cell_type": "code",
   "execution_count": 20,
   "id": "7195cab2-adb7-477d-bdec-e664770b02bd",
   "metadata": {},
   "outputs": [],
   "source": [
    "def showTime():\n",
    "    return str(\"[\"+datetime.now().strftime('%Y-%m-%d %H:%M:%S.%f')+\" UTC]\")"
   ]
  },
  {
   "cell_type": "code",
   "execution_count": 21,
   "id": "c66d73b1-a2f6-422a-b05e-bec8314458b9",
   "metadata": {},
   "outputs": [
    {
     "name": "stdout",
     "output_type": "stream",
     "text": [
      "[2024-10-04 20:15:52.988538 UTC][INFO] File does not exist, downloading...\n",
      "[2024-10-04 20:16:18.601700 UTC][INFO] File downloaded and saved as human-nutrition-text.pdf\n"
     ]
    }
   ],
   "source": [
    "# download pdf\n",
    "import os\n",
    "import requests\n",
    "pdf_path = \"human-nutrition-text.pdf\"\n",
    "\n",
    "if not os.path.exists(pdf_path):\n",
    "    print(f\"{showTime()}[INFO] File does not exist, downloading...\")\n",
    "    url = \"https://pressbooks.oer.hawaii.edu/humannutrition2/open/download?type=pdf\"\n",
    "    filename = pdf_path\n",
    "\n",
    "    # send request\n",
    "    response = requests.get(url)\n",
    "\n",
    "    if response.status_code == 200:\n",
    "        with open(filename, \"wb\") as file:\n",
    "            file.write(response.content)\n",
    "        print(f\"{showTime()}[INFO] File downloaded and saved as {filename}\")\n",
    "    else:\n",
    "        print(f\"{showTime()}[INFO] Failed to download. {response.status_code}\")\n",
    "else:\n",
    "    print(f\"{showTime()}[INFO] File exists.\")    "
   ]
  },
  {
   "cell_type": "code",
   "execution_count": 31,
   "id": "e4752660-9fec-4349-9ffe-a9dd56e2bfc7",
   "metadata": {},
   "outputs": [
    {
     "data": {
      "application/vnd.jupyter.widget-view+json": {
       "model_id": "27fc44c601264c579a3f2f929661659c",
       "version_major": 2,
       "version_minor": 0
      },
      "text/plain": [
       "0it [00:00, ?it/s]"
      ]
     },
     "metadata": {},
     "output_type": "display_data"
    },
    {
     "data": {
      "text/plain": [
       "[{'page_number': -41,\n",
       "  'page_char_count': 29,\n",
       "  'page_word_count': 4,\n",
       "  'page_sentence_count_raw': 1,\n",
       "  'page_token_count': 7.25,\n",
       "  'text': 'Human Nutrition: 2020 Edition'},\n",
       " {'page_number': -40,\n",
       "  'page_char_count': 0,\n",
       "  'page_word_count': 1,\n",
       "  'page_sentence_count_raw': 1,\n",
       "  'page_token_count': 0.0,\n",
       "  'text': ''},\n",
       " {'page_number': -39,\n",
       "  'page_char_count': 320,\n",
       "  'page_word_count': 54,\n",
       "  'page_sentence_count_raw': 1,\n",
       "  'page_token_count': 80.0,\n",
       "  'text': 'Human Nutrition: 2020  Edition  UNIVERSITY OF HAWAI‘I AT MĀNOA  FOOD SCIENCE AND HUMAN  NUTRITION PROGRAM  ALAN TITCHENAL, SKYLAR HARA,  NOEMI ARCEO CAACBAY, WILLIAM  MEINKE-LAU, YA-YUN YANG, MARIE  KAINOA FIALKOWSKI REVILLA,  JENNIFER DRAPER, GEMADY  LANGFELDER, CHERYL GIBBY, CHYNA  NICOLE CHUN, AND ALLISON  CALABRESE'}]"
      ]
     },
     "execution_count": 31,
     "metadata": {},
     "output_type": "execute_result"
    }
   ],
   "source": [
    "# open pdf\n",
    "import fitz\n",
    "from tqdm.auto import tqdm\n",
    "\n",
    "def text_formatter(text: str) -> str:\n",
    "    \"\"\"Performs minor forating on text\"\"\"\n",
    "    cleaned_text = text.replace(\"\\n\", \" \").strip()\n",
    "    return cleaned_text\n",
    "\n",
    "def open_and_read_pdf(pdf_path: str) -> list[dict]:\n",
    "    doc = fitz.open(pdf_path)\n",
    "    pages_and_texts = []\n",
    "    for page_number, page in tqdm(enumerate(doc)):\n",
    "        text = page.get_text()\n",
    "        text = text_formatter(text=text)\n",
    "        pages_and_texts.append({\"page_number\": page_number-41, # page number where real book content starts\n",
    "                                \"page_char_count\": len(text),\n",
    "                                \"page_word_count\": len(text.split(\" \")),\n",
    "                                \"page_sentence_count_raw\": len(text.split(\". \")),\n",
    "                                \"page_token_count\": len(text)/4, # 1 token = 4 characters\n",
    "                                \"text\": text})\n",
    "    return pages_and_texts\n",
    "\n",
    "pages_and_texts = open_and_read_pdf(pdf_path=pdf_path)\n",
    "pages_and_texts[:3]"
   ]
  },
  {
   "cell_type": "code",
   "execution_count": 32,
   "id": "ccc1788e-d093-4cda-a22a-f083bb31c792",
   "metadata": {},
   "outputs": [
    {
     "data": {
      "text/plain": [
       "[{'page_number': 472,\n",
       "  'page_char_count': 641,\n",
       "  'page_word_count': 105,\n",
       "  'page_sentence_count_raw': 5,\n",
       "  'page_token_count': 160.25,\n",
       "  'text': 'Photo by  Hope House  Press on  unsplash.co m / CC0  https://unspl ash.com/ photos/ PJzc7LOt2Ig  Weight Management  UNIVERSITY OF HAWAI‘I AT MĀNOA FOOD SCIENCE AND HUMAN  NUTRITION PROGRAM AND HUMAN NUTRITION PROGRAM  “Obesogenic” is a word that has sprung up in the language of public  health professionals in the last two decades. The Centers for  Disease Control and Prevention (CDC) defines obesogenic as “an  environment that promotes increased food intake, non-healthful  foods, and physical inactivity.”1  1. Obesogenic Environments. Center for Disease Control  and Prevention (CDC). https://www.cdc.gov/pcd/ 472  |  Weight Management'},\n",
       " {'page_number': 780,\n",
       "  'page_char_count': 1155,\n",
       "  'page_word_count': 202,\n",
       "  'page_sentence_count_raw': 12,\n",
       "  'page_token_count': 288.75,\n",
       "  'text': 'Learning Objectives  By the end of this chapter you will be able to:  •  Describe the physiological basis for nutrient  requirements from pregnancy through the toddler  years.  The Human Life Cycle  Human bodies change significantly over time, and food is the fuel  for those changes. For example, for Native Hawaiians, expecting  mothers were encouraged to eat greens like the lu‘au (young taro  leaves) and palula (young sweet potato leaves) to encourage a  healthy, strong baby.  These beliefs and customs practiced in the  early stages of life were done in hopes of building a firm foundation  and setting up lifelong health.1  People of all ages need the same basic nutrients—essential amino  acids, carbohydrates, essential fatty acids, and twenty-eight  vitamins and minerals—to sustain life and health. However, the  amounts of nutrients needed differ. Throughout the human life  cycle, the body constantly changes and goes through different  periods known as stages. This chapter will focus on pregnancy,  1. Pukai MK.,  Handy ESC. (1958). The Polynesian Family  System in Ka-‘u. Rutland, Vermont: Charles E. Tuttle  Company  780  |  Introduction'},\n",
       " {'page_number': 535,\n",
       "  'page_char_count': 723,\n",
       "  'page_word_count': 146,\n",
       "  'page_sentence_count_raw': 9,\n",
       "  'page_token_count': 180.75,\n",
       "  'text': 'Age Group  RDA (mcg/day) UL (mcg/day)  Infant (0–6 months)  10*  25  Infants (6–12 months)  10*  25  Children (1–3 years)  15  50  Children (4–8 years)  15  50  Children (9–13 years)  15  50  Adolescents (14–18 years)  15  50  Adults (19–71 years)  15  50  Adults (> 71 years)  20  50  * denotes Adequate Intake  Source: Ross, A. C. et al. (2011). The 2011 Report on Dietary Reference  Intakes for Calcium and Vitamin D from the Institute of Medicine:  What Clinicians Need to Know. Journal of Clinical Endocrinology  & Metabolism, 96(1), 53–8. http://www.ncbi.nlm.nih.gov/pubmed/ 21118827. Accessed October 10, 2017.  Dietary Sources of Vitamin D  Table 9.5 Vitamin D Content of Various Foods  Fat-Soluble Vitamins  |  535'}]"
      ]
     },
     "execution_count": 32,
     "metadata": {},
     "output_type": "execute_result"
    }
   ],
   "source": [
    "import random\n",
    "random.sample(pages_and_texts, k=3)"
   ]
  },
  {
   "cell_type": "code",
   "execution_count": null,
   "id": "bfa858c6-d378-4d22-b39d-1485ddb59144",
   "metadata": {},
   "outputs": [],
   "source": []
  }
 ],
 "metadata": {
  "kernelspec": {
   "display_name": "Python 3 (ipykernel)",
   "language": "python",
   "name": "python3"
  },
  "language_info": {
   "codemirror_mode": {
    "name": "ipython",
    "version": 3
   },
   "file_extension": ".py",
   "mimetype": "text/x-python",
   "name": "python",
   "nbconvert_exporter": "python",
   "pygments_lexer": "ipython3",
   "version": "3.12.5"
  }
 },
 "nbformat": 4,
 "nbformat_minor": 5
}
